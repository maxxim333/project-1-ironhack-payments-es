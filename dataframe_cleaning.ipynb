{
 "cells": [
  {
   "cell_type": "markdown",
   "metadata": {},
   "source": [
    "*ANALISIS EXPLORATORIO DE DATOS*"
   ]
  },
  {
   "cell_type": "code",
   "execution_count": 38,
   "metadata": {},
   "outputs": [],
   "source": [
    "import pandas as pd\n",
    "import numpy as np\n",
    "import seaborn as sns\n",
    "import matplotlib.pyplot as plt"
   ]
  },
  {
   "cell_type": "code",
   "execution_count": 39,
   "metadata": {},
   "outputs": [],
   "source": [
    "request_df = pd.read_csv(\"//home/biomedmax/github/project-1-ironhack-payments-es/project_dataset/extract - cash request - data analyst.csv\")\n",
    "fees_df = pd.read_csv(\"//home/biomedmax/github/project-1-ironhack-payments-es/project_dataset/extract - fees - data analyst - .csv\")"
   ]
  },
  {
   "cell_type": "code",
   "execution_count": 40,
   "metadata": {},
   "outputs": [
    {
     "name": "stdout",
     "output_type": "stream",
     "text": [
      "<class 'pandas.core.frame.DataFrame'>\n",
      "RangeIndex: 21061 entries, 0 to 21060\n",
      "Data columns (total 13 columns):\n",
      " #   Column           Non-Null Count  Dtype  \n",
      "---  ------           --------------  -----  \n",
      " 0   id               21061 non-null  int64  \n",
      " 1   cash_request_id  21057 non-null  float64\n",
      " 2   type             21061 non-null  object \n",
      " 3   status           21061 non-null  object \n",
      " 4   category         2196 non-null   object \n",
      " 5   total_amount     21061 non-null  float64\n",
      " 6   reason           21061 non-null  object \n",
      " 7   created_at       21061 non-null  object \n",
      " 8   updated_at       21061 non-null  object \n",
      " 9   paid_at          15531 non-null  object \n",
      " 10  from_date        7766 non-null   object \n",
      " 11  to_date          7766 non-null   object \n",
      " 12  charge_moment    21061 non-null  object \n",
      "dtypes: float64(2), int64(1), object(10)\n",
      "memory usage: 2.1+ MB\n"
     ]
    }
   ],
   "source": [
    "#Info de la Tabla de Fees\n",
    "fees_df.info()\n"
   ]
  },
  {
   "cell_type": "code",
   "execution_count": 41,
   "metadata": {},
   "outputs": [
    {
     "name": "stdout",
     "output_type": "stream",
     "text": [
      "<class 'pandas.core.frame.DataFrame'>\n",
      "RangeIndex: 23970 entries, 0 to 23969\n",
      "Data columns (total 16 columns):\n",
      " #   Column                      Non-Null Count  Dtype  \n",
      "---  ------                      --------------  -----  \n",
      " 0   id                          23970 non-null  int64  \n",
      " 1   amount                      23970 non-null  float64\n",
      " 2   status                      23970 non-null  object \n",
      " 3   created_at                  23970 non-null  object \n",
      " 4   updated_at                  23970 non-null  object \n",
      " 5   user_id                     21867 non-null  float64\n",
      " 6   moderated_at                16035 non-null  object \n",
      " 7   deleted_account_id          2104 non-null   float64\n",
      " 8   reimbursement_date          23970 non-null  object \n",
      " 9   cash_request_received_date  16289 non-null  object \n",
      " 10  money_back_date             16543 non-null  object \n",
      " 11  transfer_type               23970 non-null  object \n",
      " 12  send_at                     16641 non-null  object \n",
      " 13  recovery_status             3330 non-null   object \n",
      " 14  reco_creation               3330 non-null   object \n",
      " 15  reco_last_update            3330 non-null   object \n",
      "dtypes: float64(3), int64(1), object(12)\n",
      "memory usage: 2.9+ MB\n"
     ]
    }
   ],
   "source": [
    "request_df.info()"
   ]
  },
  {
   "cell_type": "markdown",
   "metadata": {},
   "source": [
    "Conclusion: tenemos columnas con numeros de celdas no-nulas diferentes y DataTypes variados"
   ]
  },
  {
   "cell_type": "markdown",
   "metadata": {},
   "source": []
  },
  {
   "cell_type": "code",
   "execution_count": 42,
   "metadata": {},
   "outputs": [
    {
     "data": {
      "text/plain": [
       "[False]"
      ]
     },
     "execution_count": 42,
     "metadata": {},
     "output_type": "execute_result"
    }
   ],
   "source": [
    "#Ver si hay algun NaN en la tabla de Requests\n",
    "request_df_missing = [request_df['created_at'].isna().any()]\n",
    "request_df_missing"
   ]
  },
  {
   "cell_type": "markdown",
   "metadata": {},
   "source": [
    "No hay ningun NaN en la columna de Created_at, que es la que queremos usar como base para cohortes"
   ]
  },
  {
   "cell_type": "code",
   "execution_count": 43,
   "metadata": {},
   "outputs": [
    {
     "data": {
      "text/plain": [
       "0        2019-12-10 19:05:21.596873+00\n",
       "1         2019-12-10 19:50:12.34778+00\n",
       "2         2019-12-10 19:13:35.82546+00\n",
       "3        2019-12-10 19:16:10.880172+00\n",
       "4        2020-05-06 09:59:38.877376+00\n",
       "                     ...              \n",
       "23965    2020-10-12 13:54:11.686225+00\n",
       "23966     2020-10-27 14:41:25.73491+00\n",
       "23967    2020-10-20 07:58:04.006937+00\n",
       "23968    2020-10-10 05:40:55.700422+00\n",
       "23969    2020-10-08 14:16:52.155661+00\n",
       "Name: created_at, Length: 23970, dtype: object"
      ]
     },
     "execution_count": 43,
     "metadata": {},
     "output_type": "execute_result"
    }
   ],
   "source": [
    "#Comprobar el formato de Created at\n",
    "request_df[\"created_at\"]"
   ]
  },
  {
   "cell_type": "markdown",
   "metadata": {},
   "source": [
    "La columna \"Created_at\" parece estar toda en formato fecha, pero el python la interpreta como object"
   ]
  },
  {
   "cell_type": "code",
   "execution_count": 44,
   "metadata": {},
   "outputs": [
    {
     "data": {
      "text/plain": [
       "0       2019-12-10 19:05:21.596873+00:00\n",
       "1       2019-12-10 19:50:12.347780+00:00\n",
       "2       2019-12-10 19:13:35.825460+00:00\n",
       "3       2019-12-10 19:16:10.880172+00:00\n",
       "4       2020-05-06 09:59:38.877376+00:00\n",
       "                      ...               \n",
       "23965   2020-10-12 13:54:11.686225+00:00\n",
       "23966   2020-10-27 14:41:25.734910+00:00\n",
       "23967   2020-10-20 07:58:04.006937+00:00\n",
       "23968   2020-10-10 05:40:55.700422+00:00\n",
       "23969   2020-10-08 14:16:52.155661+00:00\n",
       "Name: created_at, Length: 23970, dtype: datetime64[ns, UTC]"
      ]
     },
     "execution_count": 44,
     "metadata": {},
     "output_type": "execute_result"
    }
   ],
   "source": [
    "#Ejemplo de conversion a DateTime\n",
    "pd.to_datetime(request_df['created_at'])"
   ]
  },
  {
   "cell_type": "markdown",
   "metadata": {},
   "source": [
    "Ahora si es DateTime!\n",
    "Queremos que todas las columnas sean asi:\n",
    "\n",
    "Y de paso, hacemos otras conversiones pertinentes\n",
    "\n"
   ]
  },
  {
   "cell_type": "code",
   "execution_count": 45,
   "metadata": {},
   "outputs": [],
   "source": [
    "#Crear una copia de mi DF de pagos y transformar todas las columnas a fechas (las que son fechas)\n",
    "request_df_2 = request_df.copy()\n",
    "\n",
    "request_df_2['created_at'] = pd.to_datetime(request_df_2['created_at'])\n",
    "request_df_2['updated_at'] = pd.to_datetime(request_df_2['updated_at'])\n",
    "request_df_2['moderated_at'] = pd.to_datetime(request_df_2['moderated_at'], errors=\"coerce\")\n",
    "request_df_2['reimbursement_date'] = pd.to_datetime(request_df_2['reimbursement_date'], errors=\"coerce\")\n",
    "request_df_2['cash_request_received_date'] = pd.to_datetime(request_df_2['cash_request_received_date'], errors=\"coerce\")\n",
    "request_df_2['money_back_date'] = pd.to_datetime(request_df_2['money_back_date'], errors=\"coerce\")\n",
    "request_df_2['send_at'] = pd.to_datetime(request_df_2['send_at'], errors=\"coerce\")\n",
    "request_df_2['send_at'] = pd.to_datetime(request_df_2['send_at'], errors=\"coerce\")\n",
    "request_df_2['reco_creation'] = pd.to_datetime(request_df_2['reco_creation'], errors=\"coerce\")\n",
    "request_df_2['reco_last_update'] = pd.to_datetime(request_df_2['reco_last_update'], errors=\"coerce\")\n",
    "\n",
    "#Rellenar los NaNs de user ID con los valores de \"Deleted Account ID\"\n",
    "request_df_2['user_id'] = request_df_2['user_id'].fillna(request_df_2[\"deleted_account_id\"])\n",
    "\n",
    "#Convertir los ID a Integers\n",
    "request_df_2['user_id'] = request_df_2[\"user_id\"].astype(\"int\")"
   ]
  },
  {
   "cell_type": "markdown",
   "metadata": {},
   "source": [
    "Comprobamos que este todo bien convertido"
   ]
  },
  {
   "cell_type": "code",
   "execution_count": 46,
   "metadata": {},
   "outputs": [
    {
     "name": "stdout",
     "output_type": "stream",
     "text": [
      "<class 'pandas.core.frame.DataFrame'>\n",
      "RangeIndex: 23970 entries, 0 to 23969\n",
      "Data columns (total 16 columns):\n",
      " #   Column                      Non-Null Count  Dtype              \n",
      "---  ------                      --------------  -----              \n",
      " 0   id                          23970 non-null  int64              \n",
      " 1   amount                      23970 non-null  float64            \n",
      " 2   status                      23970 non-null  object             \n",
      " 3   created_at                  23970 non-null  datetime64[ns, UTC]\n",
      " 4   updated_at                  23970 non-null  datetime64[ns, UTC]\n",
      " 5   user_id                     23970 non-null  int64              \n",
      " 6   moderated_at                15912 non-null  datetime64[ns, UTC]\n",
      " 7   deleted_account_id          2104 non-null   float64            \n",
      " 8   reimbursement_date          3050 non-null   datetime64[ns, UTC]\n",
      " 9   cash_request_received_date  16289 non-null  datetime64[ns]     \n",
      " 10  money_back_date             12040 non-null  datetime64[ns, UTC]\n",
      " 11  transfer_type               23970 non-null  object             \n",
      " 12  send_at                     16466 non-null  datetime64[ns, UTC]\n",
      " 13  recovery_status             3330 non-null   object             \n",
      " 14  reco_creation               3330 non-null   datetime64[ns, UTC]\n",
      " 15  reco_last_update            3330 non-null   datetime64[ns, UTC]\n",
      "dtypes: datetime64[ns, UTC](8), datetime64[ns](1), float64(2), int64(2), object(3)\n",
      "memory usage: 2.9+ MB\n"
     ]
    }
   ],
   "source": [
    "#Ver info de la DF de Request Payments\n",
    "request_df_2.info()"
   ]
  },
  {
   "cell_type": "markdown",
   "metadata": {},
   "source": [
    "Si, lo está.\n",
    "\n",
    "Ahora, queremos ver si hay duplicados en la columna \"user_id\". Eso significaria que hay users que piden prestamos de manera recurrente"
   ]
  },
  {
   "cell_type": "code",
   "execution_count": 47,
   "metadata": {},
   "outputs": [
    {
     "name": "stdout",
     "output_type": "stream",
     "text": [
      "23970\n",
      "11793\n"
     ]
    }
   ],
   "source": [
    "#COmprobar que no hay duplicados de user_id\n",
    "print(len(request_df_2[\"user_id\"]))\n",
    "request_df_2.drop_duplicates(subset=[\"user_id\"])\n",
    "print(len(request_df_2.drop_duplicates(subset=[\"user_id\"])))\n",
    "\n"
   ]
  },
  {
   "cell_type": "markdown",
   "metadata": {},
   "source": [
    "Efectivamente.\n",
    "\n",
    "Ahora, queremos sortear el dataframe en la columna \"Created_at\""
   ]
  },
  {
   "cell_type": "code",
   "execution_count": 48,
   "metadata": {},
   "outputs": [],
   "source": [
    "\n",
    "#Sortear segun fecha de creacion del primer prestamo\n",
    "request_df_2 = request_df_2.sort_values([\"created_at\"])"
   ]
  },
  {
   "cell_type": "markdown",
   "metadata": {},
   "source": [
    "Ahora queremos mirar la base de datos de fees"
   ]
  },
  {
   "cell_type": "code",
   "execution_count": 49,
   "metadata": {},
   "outputs": [
    {
     "name": "stdout",
     "output_type": "stream",
     "text": [
      "         id  cash_request_id             type     status category  \\\n",
      "1911   2990              NaN  instant_payment  cancelled      NaN   \n",
      "1960   3124              NaN  instant_payment  cancelled      NaN   \n",
      "4605   5185              NaN  instant_payment  cancelled      NaN   \n",
      "11870  3590              NaN  instant_payment  cancelled      NaN   \n",
      "\n",
      "       total_amount                              reason  \\\n",
      "1911            5.0  Instant Payment Cash Request 11164   \n",
      "1960            5.0  Instant Payment Cash Request 11444   \n",
      "4605            5.0  Instant Payment Cash Request 11788   \n",
      "11870           5.0  Instant Payment Cash Request 12212   \n",
      "\n",
      "                          created_at                     updated_at paid_at  \\\n",
      "1911   2020-08-06 22:42:34.525373+00  2020-11-04 16:01:17.296048+00     NaN   \n",
      "1960   2020-08-08 06:33:06.244651+00  2020-11-04 16:01:08.332978+00     NaN   \n",
      "4605   2020-08-26 09:39:37.362933+00  2020-11-04 16:01:36.492576+00     NaN   \n",
      "11870  2020-08-12 14:20:06.657075+00  2020-11-04 16:01:53.106416+00     NaN   \n",
      "\n",
      "      from_date to_date charge_moment  \n",
      "1911        NaN     NaN         after  \n",
      "1960        NaN     NaN         after  \n",
      "4605        NaN     NaN         after  \n",
      "11870       NaN     NaN         after  \n"
     ]
    }
   ],
   "source": [
    "#Ver si los datos de fees, la columna cash_request_id tiene nans\n",
    "subset_missing_values = pd.isna(fees_df['cash_request_id'])\n",
    "subset_missing_values\n",
    "\n",
    "# Assuming fees_df is your DataFrame\n",
    "subset_missing_values = fees_df[fees_df['cash_request_id'].isna()]\n",
    "\n",
    "# Display the subset\n",
    "print(subset_missing_values)"
   ]
  },
  {
   "cell_type": "markdown",
   "metadata": {},
   "source": [
    "Vemos que por alguna razon, hay missing values en la columna \"cash request id\". Como esa columna es importante para hecer join, habra que decidir que hacer con estos valores.\n",
    "\n",
    "Hemos decidido eliminarlos simplemente, ya que debe de ser una anomalia y son pocos."
   ]
  },
  {
   "cell_type": "code",
   "execution_count": 50,
   "metadata": {},
   "outputs": [
    {
     "name": "stdout",
     "output_type": "stream",
     "text": [
      "<class 'pandas.core.frame.DataFrame'>\n",
      "Index: 21057 entries, 0 to 21060\n",
      "Data columns (total 13 columns):\n",
      " #   Column           Non-Null Count  Dtype  \n",
      "---  ------           --------------  -----  \n",
      " 0   id               21057 non-null  int64  \n",
      " 1   cash_request_id  21057 non-null  float64\n",
      " 2   type             21057 non-null  object \n",
      " 3   status           21057 non-null  object \n",
      " 4   category         2196 non-null   object \n",
      " 5   total_amount     21057 non-null  float64\n",
      " 6   reason           21057 non-null  object \n",
      " 7   created_at       21057 non-null  object \n",
      " 8   updated_at       21057 non-null  object \n",
      " 9   paid_at          15531 non-null  object \n",
      " 10  from_date        7766 non-null   object \n",
      " 11  to_date          7766 non-null   object \n",
      " 12  charge_moment    21057 non-null  object \n",
      "dtypes: float64(2), int64(1), object(10)\n",
      "memory usage: 2.2+ MB\n"
     ]
    }
   ],
   "source": [
    "#Quitar los NaNs de la columna cash_request_id y ensenarnos la info de Fees\n",
    "fees_df_2= fees_df.dropna(subset=['cash_request_id'])\n",
    "fees_df_2.info()"
   ]
  },
  {
   "cell_type": "markdown",
   "metadata": {},
   "source": [
    "Tranformamos \"cash_request_id\" en integros"
   ]
  },
  {
   "cell_type": "code",
   "execution_count": 51,
   "metadata": {},
   "outputs": [
    {
     "name": "stdout",
     "output_type": "stream",
     "text": [
      "<class 'pandas.core.frame.DataFrame'>\n",
      "Index: 21057 entries, 0 to 21060\n",
      "Data columns (total 13 columns):\n",
      " #   Column           Non-Null Count  Dtype  \n",
      "---  ------           --------------  -----  \n",
      " 0   id               21057 non-null  int64  \n",
      " 1   cash_request_id  21057 non-null  int64  \n",
      " 2   type             21057 non-null  object \n",
      " 3   status           21057 non-null  object \n",
      " 4   category         2196 non-null   object \n",
      " 5   total_amount     21057 non-null  float64\n",
      " 6   reason           21057 non-null  object \n",
      " 7   created_at       21057 non-null  object \n",
      " 8   updated_at       21057 non-null  object \n",
      " 9   paid_at          15531 non-null  object \n",
      " 10  from_date        7766 non-null   object \n",
      " 11  to_date          7766 non-null   object \n",
      " 12  charge_moment    21057 non-null  object \n",
      "dtypes: float64(1), int64(2), object(10)\n",
      "memory usage: 2.2+ MB\n"
     ]
    },
    {
     "name": "stderr",
     "output_type": "stream",
     "text": [
      "/tmp/ipykernel_23611/2974037321.py:2: SettingWithCopyWarning: \n",
      "A value is trying to be set on a copy of a slice from a DataFrame.\n",
      "Try using .loc[row_indexer,col_indexer] = value instead\n",
      "\n",
      "See the caveats in the documentation: https://pandas.pydata.org/pandas-docs/stable/user_guide/indexing.html#returning-a-view-versus-a-copy\n",
      "  fees_df_2[\"cash_request_id\"] = fees_df_2['cash_request_id'].astype(int)\n"
     ]
    }
   ],
   "source": [
    "#Transformar la cash_request_id en integers\n",
    "fees_df_2[\"cash_request_id\"] = fees_df_2['cash_request_id'].astype(int)\n",
    "fees_df_2.info()"
   ]
  },
  {
   "cell_type": "markdown",
   "metadata": {},
   "source": [
    "Ver cuantos valores diferentes hay en cada columna. Hay cash_request IDs que se repiten mucho"
   ]
  },
  {
   "cell_type": "code",
   "execution_count": 52,
   "metadata": {},
   "outputs": [
    {
     "name": "stdout",
     "output_type": "stream",
     "text": [
      "id\n",
      "13301    1\n",
      "13095    1\n",
      "4325     1\n",
      "3107     1\n",
      "6467     1\n",
      "6461     1\n",
      "11489    1\n",
      "9976     1\n",
      "4752     1\n",
      "832      1\n",
      "Name: count, dtype: int64\n",
      "cash_request_id\n",
      "12225    35\n",
      "5006     28\n",
      "4410     24\n",
      "12452    23\n",
      "11376    21\n",
      "2358     19\n",
      "11746    17\n",
      "15319    16\n",
      "8713     15\n",
      "11968    15\n",
      "Name: count, dtype: int64\n",
      "type\n",
      "instant_payment    11095\n",
      "postpone            7766\n",
      "incident            2196\n",
      "Name: count, dtype: int64\n",
      "status\n",
      "accepted     14841\n",
      "cancelled     4934\n",
      "rejected      1194\n",
      "confirmed       88\n",
      "Name: count, dtype: int64\n",
      "category\n",
      "rejected_direct_debit     1599\n",
      "month_delay_on_payment     597\n",
      "Name: count, dtype: int64\n",
      "total_amount\n",
      "5.0     21056\n",
      "10.0        1\n",
      "Name: count, dtype: int64\n",
      "reason\n",
      "rejected direct debit               1599\n",
      "month delay on payment - 9/2020      283\n",
      "month delay on payment - 8/2020      203\n",
      "month delay on payment - 10/2020     102\n",
      "Postpone Cash Request 12225           34\n",
      "Postpone Cash Request 5006            25\n",
      "Postpone Cash Request 4410            23\n",
      "Postpone Cash Request 11376           20\n",
      "Postpone Cash Request 12452           20\n",
      "Postpone Cash Request 2358            18\n",
      "Name: count, dtype: int64\n",
      "created_at\n",
      "2020-06-20 22:12:27.824285+00    13\n",
      "2020-06-10 07:49:37.83168+00      4\n",
      "2020-06-23 07:46:15.133376+00     3\n",
      "2020-06-19 16:57:53.686817+00     3\n",
      "2020-06-14 22:24:27.368198+00     2\n",
      "2020-06-20 11:24:36.867149+00     2\n",
      "2020-06-16 20:49:46.374314+00     2\n",
      "2020-06-16 20:11:20.802462+00     2\n",
      "2020-09-22 10:14:11.331781+00     2\n",
      "2020-06-20 08:20:50.052537+00     2\n",
      "Name: count, dtype: int64\n",
      "updated_at\n",
      "2020-10-14 07:12:43.958219+00    1\n",
      "2020-10-13 14:25:19.167729+00    1\n",
      "2020-10-13 14:25:01.848729+00    1\n",
      "2020-10-13 14:25:17.576253+00    1\n",
      "2020-10-13 14:25:01.939531+00    1\n",
      "2020-10-13 14:25:06.871255+00    1\n",
      "2020-10-13 14:25:01.766761+00    1\n",
      "2020-10-13 14:25:08.023887+00    1\n",
      "2020-10-13 14:25:16.576944+00    1\n",
      "2021-02-08 16:09:22.195973+00    1\n",
      "Name: count, dtype: int64\n",
      "paid_at\n",
      "2020-11-05 13:31:25+00           2\n",
      "2020-12-07 16:53:12+00           2\n",
      "2020-10-03 19:15:53.173831+00    1\n",
      "2020-12-04 01:05:49.583052+00    1\n",
      "2020-11-06 04:27:32.171688+00    1\n",
      "2020-11-03 07:04:29.547314+00    1\n",
      "2020-10-08 07:04:02.101196+00    1\n",
      "2020-11-07 19:54:47.641021+00    1\n",
      "2020-10-08 07:04:32.541581+00    1\n",
      "2020-10-06 19:32:44.115792+00    1\n",
      "Name: count, dtype: int64\n",
      "from_date\n",
      "2020-10-05 22:00:00+00    297\n",
      "2020-11-05 22:00:00+00    281\n",
      "2020-09-04 22:00:00+00    241\n",
      "2020-08-05 22:00:00+00    241\n",
      "2020-09-07 22:00:00+00    207\n",
      "2020-11-02 22:00:00+00    192\n",
      "2020-11-04 22:00:00+00    137\n",
      "2020-10-06 22:00:00+00    127\n",
      "2020-08-04 22:00:00+00    120\n",
      "2020-10-26 22:00:00+00    104\n",
      "Name: count, dtype: int64\n",
      "to_date\n",
      "2020-11-06 11:00:00+00    192\n",
      "2020-11-05 11:00:00+00    187\n",
      "2020-10-30 23:00:00+00    150\n",
      "2020-10-04 22:00:00+00    148\n",
      "2020-09-04 22:00:00+00    124\n",
      "2020-10-31 11:00:00+00    111\n",
      "2020-11-04 23:00:00+00    103\n",
      "2020-11-04 22:00:00+00     93\n",
      "2020-12-05 11:00:00+00     89\n",
      "2020-10-07 22:00:00+00     83\n",
      "Name: count, dtype: int64\n",
      "charge_moment\n",
      "after     16720\n",
      "before     4337\n",
      "Name: count, dtype: int64\n"
     ]
    }
   ],
   "source": [
    "# Ver cuantos valores diferentes hay en cada columna. Hay cash_request IDs que se repiten mucho\n",
    "columnas_fees = fees_df_2.columns.tolist()\n",
    "for i in columnas_fees:\n",
    "    print(f\"{fees_df_2[i].value_counts().head(10)}\")"
   ]
  },
  {
   "cell_type": "markdown",
   "metadata": {},
   "source": [
    "Visualizar la distribucion de algunas de las variables"
   ]
  },
  {
   "cell_type": "code",
   "execution_count": 53,
   "metadata": {},
   "outputs": [
    {
     "data": {
      "text/plain": [
       "[Text(0.5, 1.0, 'Distribution of Amount of Cash Requested')]"
      ]
     },
     "execution_count": 53,
     "metadata": {},
     "output_type": "execute_result"
    },
    {
     "data": {
      "image/png": "[encoded data removed]",
      "text/plain": [
       "<Figure size 640x480 with 1 Axes>"
      ]
     },
     "metadata": {},
     "output_type": "display_data"
    }
   ],
   "source": [
    "sns.boxplot(request_df_2[\"amount\"]).set(title=\"Distribution of Amount of Cash Requested\")"
   ]
  },
  {
   "cell_type": "code",
   "execution_count": 54,
   "metadata": {},
   "outputs": [
    {
     "data": {
      "text/plain": [
       "[Text(0.5, 1.0, 'Distribution of Amount of Fees Requested')]"
      ]
     },
     "execution_count": 54,
     "metadata": {},
     "output_type": "execute_result"
    },
    {
     "data": {
      "image/png": "[encoded data removed]",
      "text/plain": [
       "<Figure size 640x480 with 1 Axes>"
      ]
     },
     "metadata": {},
     "output_type": "display_data"
    }
   ],
   "source": [
    "sns.violinplot(fees_df_2[\"total_amount\"]).set(title=\"Distribution of Amount of Fees Requested\")"
   ]
  },
  {
   "cell_type": "markdown",
   "metadata": {},
   "source": [
    "El ultimo aparece asi porque practicamente todos los fees son 5 y los demas es 10"
   ]
  },
  {
   "cell_type": "markdown",
   "metadata": {},
   "source": [
    "# Guardamos todo para luego cargar ya los dataframes limpios en la parte de EDA"
   ]
  },
  {
   "cell_type": "code",
   "execution_count": 55,
   "metadata": {},
   "outputs": [],
   "source": [
    "request_df_2.to_csv(path_or_buf=\"//home/biomedmax/github/project-1-ironhack-payments-es/project_dataset/filtered_cash\")\n",
    "fees_df_2.to_csv(path_or_buf=\"//home/biomedmax/github/project-1-ironhack-payments-es/project_dataset/filtered_fees\")"
   ]
  },
  {
   "cell_type": "code",
   "execution_count": null,
   "metadata": {},
   "outputs": [],
   "source": []
  }
 ],
 "metadata": {
  "kernelspec": {
   "display_name": "Python 3",
   "language": "python",
   "name": "python3"
  },
  "language_info": {
   "codemirror_mode": {
    "name": "ipython",
    "version": 3
   },
   "file_extension": ".py",
   "mimetype": "text/x-python",
   "name": "python",
   "nbconvert_exporter": "python",
   "pygments_lexer": "ipython3",
   "version": "3.10.12"
  }
 },
 "nbformat": 4,
 "nbformat_minor": 2
}
